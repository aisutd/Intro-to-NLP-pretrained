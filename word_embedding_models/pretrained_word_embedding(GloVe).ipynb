{
  "nbformat": 4,
  "nbformat_minor": 0,
  "metadata": {
    "colab": {
      "name": "word embedding models - GloVe.ipynb",
      "provenance": [],
      "collapsed_sections": [],
      "machine_shape": "hm"
    },
    "kernelspec": {
      "name": "python3",
      "display_name": "Python 3"
    },
    "accelerator": "GPU"
  },
  "cells": [
    {
      "cell_type": "markdown",
      "metadata": {
        "id": "sxbO_L3X2vH1"
      },
      "source": [
        "## Download and use pretrained word embeddings form GloVe model"
      ]
    },
    {
      "cell_type": "code",
      "metadata": {
        "id": "6iT4c5wI7JEE"
      },
      "source": [
        "#####################################################################\r\n",
        "###################  use pretrained model: GloVe  ###################\r\n",
        "#####################################################################\r\n",
        "\r\n",
        "\r\n",
        "######################### install environment ##########################\r\n",
        "## install environment is needed\r\n",
        "## pip install numpy\r\n",
        "## pip install scipy\r\n",
        "## pip install matplotlib\r\n",
        "## pip install sklearn\r\n",
        "\r\n",
        "\r\n",
        "############################  Resources  #################################\r\n",
        "## file download link: (Wikipedia 2014 + Gigaword 5 vectors) \r\n",
        "## http://nlp.stanford.edu/data/glove.6B.zip\r\n",
        "\r\n",
        "## other GloVe download page:\r\n",
        "## https://nlp.stanford.edu/projects/glove/\r\n",
        "\r\n",
        "## ref: https://medium.com/analytics-vidhya/basics-of-using-pre-trained-glove-vectors-in-python-d38905f356db\r\n",
        "\r\n",
        "######################## if use google colab #########################\r\n",
        "## if use google colab: use the following code to download and unzip it.\r\n",
        "## if do not use google colab, jump to the next block\r\n",
        "import os\r\n",
        "import urllib.request\r\n",
        "import zipfile\r\n",
        "source_url = \"http://nlp.stanford.edu/data/glove.6B.zip\"\r\n",
        "zip_name = \"GloVe.zip\"\r\n",
        "if (os.path.exists(zip_name) == False):\r\n",
        "    urllib.request.urlretrieve(source_url,zip_name)\r\n",
        "data_dir = \"GloVe\"\r\n",
        "with zipfile.ZipFile(zip_name, 'r') as zip_ref:\r\n",
        "    zip_ref.extractall(data_dir)\r\n",
        "\r\n",
        "\r\n",
        "\r\n",
        "############################ library used ###########################\r\n",
        "## if do not use google colab, download data from the resource block \r\n",
        "import numpy as np\r\n",
        "\r\n",
        "\r\n",
        "########################## create a dictionary #######################\r\n",
        "## to create a dictionary that can: embeddings_dict[input_your_word] --> output its embedding\r\n",
        "## create a empty dictionary\r\n",
        "embeddings_dict = {}\r\n",
        "## open file as f\r\n",
        "filePath = \"GloVe/glove.6B.50d.txt\"\r\n",
        "with open(filePath, 'r') as f:\r\n",
        "    ## for each line, transfer a string like: 'business 0.023693 0.13316 0.023131' \r\n",
        "    ##                  into a list like ['business', '0.023693', '0.13316', '0.023131']\r\n",
        "    for line in f:\r\n",
        "        values = line.split()\r\n",
        "        word = values[0]\r\n",
        "        ## then, put all the number into an np.array using np.asarray(input_array, data_type)\r\n",
        "        vector = np.asarray(values[1:], dtype=\"float32\")\r\n",
        "        embeddings_dict[word] = vector\r\n",
        "\r\n",
        "\r\n",
        "\r\n",
        "\r\n"
      ],
      "execution_count": 3,
      "outputs": []
    },
    {
      "cell_type": "markdown",
      "metadata": {
        "id": "Sz_o17h021pr"
      },
      "source": [
        "## Test\r\n",
        "check any word embedding"
      ]
    },
    {
      "cell_type": "code",
      "metadata": {
        "id": "GxcZ8inK2-Pl",
        "outputId": "57c0c586-1a0c-4d70-9b90-3216fe466312",
        "colab": {
          "base_uri": "https://localhost:8080/"
        }
      },
      "source": [
        "test_word = 'great'\r\n",
        "embedding = embeddings_dict[test_word]\r\n",
        "print(f'embedding of word {test_word}:','\\n',embedding)"
      ],
      "execution_count": 47,
      "outputs": [
        {
          "output_type": "stream",
          "text": [
            "embedding of word great: \n",
            " [-0.026567  1.3357   -1.028    -0.3729    0.52012  -0.12699  -0.35433\n",
            "  0.37824  -0.29716   0.093894 -0.034122  0.92961  -0.14023  -0.63299\n",
            "  0.020801 -0.21533   0.96923   0.47654  -1.0039   -0.24013  -0.36325\n",
            " -0.004757 -0.5148   -0.4626    1.2447   -1.8316   -1.5581   -0.37465\n",
            "  0.53362   0.20883   3.2209    0.64549   0.37438  -0.17657  -0.024164\n",
            "  0.33786  -0.419     0.40081  -0.11449   0.051232 -0.15205   0.29855\n",
            " -0.44052   0.11089  -0.24633   0.66251  -0.26949  -0.49658  -0.41618\n",
            " -0.2549  ]\n"
          ],
          "name": "stdout"
        }
      ]
    },
    {
      "cell_type": "markdown",
      "metadata": {
        "id": "lFkOG6DAtj5b"
      },
      "source": [
        "## visualization\r\n",
        "1. Transfer 50 demension embedding to two demensional points (x,y)"
      ]
    },
    {
      "cell_type": "code",
      "metadata": {
        "id": "1npcU6tmp_uW"
      },
      "source": [
        "import numpy as np\r\n",
        "from sklearn.manifold import TSNE\r\n",
        "\r\n",
        "words = list(embeddings_dict.keys())\r\n",
        "embeddings = list(embeddings_dict.values())\r\n",
        "\r\n",
        "words = words[:40000]\r\n",
        "embeddings = embeddings[:40000]\r\n",
        "\r\n",
        "tsne_model_2d = TSNE(n_components=2)\r\n",
        "embeddings_2d = tsne_model_2d.fit_transform(embeddings)\r\n",
        "\r\n"
      ],
      "execution_count": 12,
      "outputs": []
    },
    {
      "cell_type": "markdown",
      "metadata": {
        "id": "aXsT_OE7th2t"
      },
      "source": [
        "2. show the similarity of words\r\n",
        "\r\n",
        "  for example: ['king','queen','cat','dog','student','professor','computer','animal','justice','judge','wood','tree','forest','love','bear','masters','hate']"
      ]
    },
    {
      "cell_type": "code",
      "metadata": {
        "id": "nBMOZtVKsa7z",
        "outputId": "6a395569-dfda-4d5f-ffbc-61a26e6cf5f1",
        "colab": {
          "base_uri": "https://localhost:8080/",
          "height": 265
        }
      },
      "source": [
        "\r\n",
        "target_word_list = ['king','queen','cat','dog','student','professor','computer','animal','justice','judge','wood','tree','forest','love','bear','masters','hate']\r\n",
        "indexes = []\r\n",
        "for word in target_word_list:\r\n",
        "  indexes.append(words.index(word))\r\n",
        "\r\n",
        "import matplotlib.pyplot as plt\r\n",
        "fig, ax = plt.subplots()\r\n",
        "L = len(embeddings_2d)\r\n",
        "x = [embeddings_2d[x][0] for x in indexes]\r\n",
        "y = [embeddings_2d[x][1] for x in indexes]\r\n",
        "ax.scatter(x,y)\r\n",
        "## \r\n",
        "for i in indexes:\r\n",
        "  ax.annotate(words[i],(embeddings_2d[i][0],embeddings_2d[i][1]))\r\n"
      ],
      "execution_count": 43,
      "outputs": [
        {
          "output_type": "display_data",
          "data": {
            "image/png": "[encoded data removed]",
            "text/plain": [
              "<Figure size 432x288 with 1 Axes>"
            ]
          },
          "metadata": {
            "tags": [],
            "needs_background": "light"
          }
        }
      ]
    }
  ]
}