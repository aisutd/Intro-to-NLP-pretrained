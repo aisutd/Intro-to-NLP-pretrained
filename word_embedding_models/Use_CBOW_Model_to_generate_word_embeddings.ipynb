{
  "nbformat": 4,
  "nbformat_minor": 0,
  "metadata": {
    "accelerator": "GPU",
    "colab": {
      "name": "Use CBOW Model to generate word embeddings.ipynb",
      "provenance": [],
      "collapsed_sections": [],
      "machine_shape": "hm"
    },
    "kernelspec": {
      "display_name": "Python 3",
      "name": "python3"
    }
  },
  "cells": [
    {
      "cell_type": "markdown",
      "metadata": {
        "id": "K2TJYJREwUAo"
      },
      "source": [
        "# Prepare training data for Word2Vec\r\n"
      ]
    },
    {
      "cell_type": "markdown",
      "metadata": {
        "id": "0PHx2miSexQg"
      },
      "source": [
        "## Download text corpus"
      ]
    },
    {
      "cell_type": "code",
      "metadata": {
        "id": "Xuw6Pd8LEUFS"
      },
      "source": [
        "#### we can explain Wget is a command that can retrieve files, use is like:\"wget url -O output_name\" \r\n",
        "import urllib.request\r\n",
        "## Aim: prepare corpus file, download using url to your local storage, Wget can retrieve files from various web servers\r\n",
        "\r\n",
        "!wget --no-check-certificate https://raw.githubusercontent.com/aisutd/Intro-to-NLP-pretrained/main/word_embedding_models/data/sample_corpus_essay_Bach_Nguyen.txt -O ./sample_corpus.txt\r\n",
        "\r\n",
        "!wget --no-check-certificate https://raw.githubusercontent.com/aisutd/Intro-to-NLP-pretrained/main/word_embedding_models/data/shakespeare.txt -O ./shakespeare.txt\r\n",
        "\r\n",
        "!wget --no-check-certificate https://raw.githubusercontent.com/aisutd/Intro-to-NLP-pretrained/main/word_embedding_models/data/warpeace.txt -O ./warpeace.txt\r\n"
      ],
      "execution_count": null,
      "outputs": []
    },
    {
      "cell_type": "markdown",
      "metadata": {
        "id": "KY-NHO3Ce7W1"
      },
      "source": [
        "## Decode corpus into a list of words"
      ]
    },
    {
      "cell_type": "code",
      "metadata": {
        "id": "S11yKT1wFlJD",
        "colab": {
          "base_uri": "https://localhost:8080/"
        },
        "outputId": "ec6d6fc5-6fa7-4ed6-f6e4-c682890f1f43"
      },
      "source": [
        "#### Can we make the loading corpus process easier? My plan is to define a function that can:  \r\n",
        "#### process: corpus--> parse --> sentence --> word_tokenize --> [ [word1,word2,word3...forming a sentence] , [word1,word2,word3...forming a sentence] ]\r\n",
        "#### it uses nltk library\r\n",
        "import nltk\r\n",
        "import tensorflow as tf\r\n",
        "nltk.download('punkt')\r\n",
        "\r\n",
        "from keras.preprocessing.text import Tokenizer\r\n",
        "from keras.preprocessing.sequence import pad_sequences\r\n",
        "from keras.preprocessing.text import text_to_word_sequence\r\n",
        "\r\n",
        "## determine the path of training corpus\r\n",
        "corpus_path1 = 'warpeace.txt'\r\n",
        "corpus_path2 = 'shakespeare.txt'\r\n",
        "\r\n",
        "\r\n",
        "## Aim: make the following transformations: \r\n",
        "## corpus--> parse --> sentence --> word_tokenize --> [ [word1,word2,word3...forming a sentence] , [word1,word2,word3...forming a sentence] ]\r\n",
        "def load_corpus(corpus_path):\r\n",
        "  f = open(corpus_path,encoding='utf-8-sig')\r\n",
        "  content = f.read()\r\n",
        "  ## in the warpeace.txt, there are two newline(Enter) characters between paragraphes, \r\n",
        "  ## so use .split('\\n\\n') to split paragraphs\r\n",
        "  paragraphs = content.split('\\n\\n')\r\n",
        "  sentences = []\r\n",
        "\r\n",
        "  ## if you want to break a paragraph into sentences, could use:\r\n",
        "  ## tokenize.sent_tokenize(paragraph) \r\n",
        "  ## it will break a sentence (str) into \r\n",
        "  ## a list of strings, each string is a sentence\r\n",
        "  for i in paragraphs:\r\n",
        "    sentences.extend(nltk.tokenize.sent_tokenize(i))\r\n",
        "  \r\n",
        "  words = []\r\n",
        "  ## to break a sentence into words\r\n",
        "  ## could use text_to_word_sequence(i)\r\n",
        "  for i in sentences:\r\n",
        "    temp = text_to_word_sequence(i)\r\n",
        "    words.append(temp)\r\n",
        "  \r\n",
        "  return words\r\n",
        "\r\n",
        "corpus1 = load_corpus(corpus_path1)\r\n",
        "\r\n"
      ],
      "execution_count": null,
      "outputs": [
        {
          "output_type": "stream",
          "text": [
            "[nltk_data] Downloading package punkt to /root/nltk_data...\n",
            "[nltk_data]   Package punkt is already up-to-date!\n"
          ],
          "name": "stdout"
        }
      ]
    },
    {
      "cell_type": "markdown",
      "metadata": {
        "id": "DTMBE6arh81H"
      },
      "source": [
        "## Visualize this corpus decoding process"
      ]
    },
    {
      "cell_type": "code",
      "metadata": {
        "colab": {
          "base_uri": "https://localhost:8080/"
        },
        "id": "h0LWkEWKJqdM",
        "outputId": "e07176bd-d376-4b3d-b8c6-7b3b71901ed3"
      },
      "source": [
        "## load_corpus function test \r\n",
        "f = open(corpus_path1,encoding='utf-8-sig')\r\n",
        "content = f.read()\r\n",
        "paragraphs = content.split('\\n\\n')\r\n",
        "print('origional paragraph:')\r\n",
        "print(paragraphs[0])\r\n",
        "print()\r\n",
        "\r\n",
        "group_of_sentence = nltk.tokenize.sent_tokenize(paragraphs[0])\r\n",
        "print(\"after sent_tokenize(paragraph)\")\r\n",
        "print(group_of_sentence)\r\n",
        "print()\r\n",
        "\r\n",
        "group_of_words = text_to_word_sequence(group_of_sentence[0])\r\n",
        "print(\"after text_to_word_sequence(sentence)\")\r\n",
        "print(group_of_words)\r\n"
      ],
      "execution_count": null,
      "outputs": [
        {
          "output_type": "stream",
          "text": [
            "origional paragraph:\n",
            "\"Well, Prince, so Genoa and Lucca are now just family estates of the\n",
            "Buonapartes. But I warn you, if you don't tell me that this means war,\n",
            "if you still try to defend the infamies and horrors perpetrated by that\n",
            "Antichrist--I really believe he is Antichrist--I will have nothing more\n",
            "to do with you and you are no longer my friend, no longer my 'faithful\n",
            "slave,' as you call yourself! But how do you do? I see I have frightened\n",
            "you--sit down and tell me all the news.\"\n",
            "\n",
            "after sent_tokenize(paragraph)\n",
            "['\"Well, Prince, so Genoa and Lucca are now just family estates of the\\nBuonapartes.', \"But I warn you, if you don't tell me that this means war,\\nif you still try to defend the infamies and horrors perpetrated by that\\nAntichrist--I really believe he is Antichrist--I will have nothing more\\nto do with you and you are no longer my friend, no longer my 'faithful\\nslave,' as you call yourself!\", 'But how do you do?', 'I see I have frightened\\nyou--sit down and tell me all the news.\"']\n",
            "\n",
            "after word_tokenize(sentence)\n",
            "['well', 'prince', 'so', 'genoa', 'and', 'lucca', 'are', 'now', 'just', 'family', 'estates', 'of', 'the', 'buonapartes']\n"
          ],
          "name": "stdout"
        }
      ]
    },
    {
      "cell_type": "markdown",
      "metadata": {
        "id": "2QNkWhqswuJD"
      },
      "source": [
        "## Give each unique word an index\r\n",
        "so later, we can use index to present any word \r\n",
        "\r\n",
        "For example: ['before', 'we', 'proceed', 'any','further', 'hear', 'me', 'speak'] --> [138, 36, 982, 144, 673, 125, 16, 106]"
      ]
    },
    {
      "cell_type": "code",
      "metadata": {
        "id": "Rn9QEgJmIDcy"
      },
      "source": [
        "## use tokenizer to give each word in corpus a unique index\r\n",
        "tokenizer = Tokenizer(oov_token='<OOV>')\r\n",
        "## tokenizer.fit_on_texts(corpus)\r\n",
        "tokenizer.fit_on_texts(corpus1)\r\n",
        "w2id = tokenizer.word_index\r\n"
      ],
      "execution_count": null,
      "outputs": []
    },
    {
      "cell_type": "code",
      "metadata": {
        "colab": {
          "base_uri": "https://localhost:8080/"
        },
        "id": "ScOeeM_6JO29",
        "outputId": "1b3c4d57-0229-40d3-c3f4-afe2364caeeb"
      },
      "source": [
        "len(w2id)\r\n"
      ],
      "execution_count": null,
      "outputs": [
        {
          "output_type": "execute_result",
          "data": {
            "text/plain": [
              "18283"
            ]
          },
          "metadata": {
            "tags": []
          },
          "execution_count": 190
        }
      ]
    },
    {
      "cell_type": "markdown",
      "metadata": {
        "id": "FQFrQ6DVySRm"
      },
      "source": [
        "## Generating embeddings training data\r\n",
        "  - The inputs (features) are surrounding words \r\n",
        "  - The output (predictions) is the target word"
      ]
    },
    {
      "cell_type": "code",
      "metadata": {
        "id": "5BH10tUx0urk"
      },
      "source": [
        "from tensorflow.keras.utils import to_categorical"
      ],
      "execution_count": null,
      "outputs": []
    },
    {
      "cell_type": "code",
      "metadata": {
        "id": "pissk0456R68"
      },
      "source": [
        "vocab_size = len(tokenizer.word_index) + 1\r\n",
        "window_size = 2"
      ],
      "execution_count": null,
      "outputs": []
    },
    {
      "cell_type": "code",
      "metadata": {
        "id": "UVYlisjiJWu8"
      },
      "source": [
        "import random\r\n",
        "import numpy as np\r\n",
        "def generate_pairs(window_size, corpus):\r\n",
        "  ## line_num: how many lines to use as training data from our corpus\r\n",
        "  line_num = 600\r\n",
        "  \r\n",
        "  ## randomly choose lines from corpus\r\n",
        "  random.shuffle(corpus)\r\n",
        "  corpus = corpus[:line_num]\r\n",
        "  \r\n",
        "  X = []\r\n",
        "  y = []\r\n",
        "\r\n",
        "  for words in corpus:\r\n",
        "    start = 0\r\n",
        "    while start + window_size * 2 < len(words):\r\n",
        "      end = start + window_size * 2\r\n",
        "      tar_i = start + window_size\r\n",
        "      x = [\" \".join(words[start:tar_i] + words[tar_i+1:end+1])]\r\n",
        "      label = words[tar_i]\r\n",
        "      # print(words)\r\n",
        "      # print(x, \"--->\", label)\r\n",
        "      start += 1\r\n",
        "      X.append(tokenizer.texts_to_sequences(x)[0])\r\n",
        "      y.append(to_categorical( tokenizer.word_index[label], len(tokenizer.word_index) + 1))\r\n",
        "\r\n",
        "  return tf.convert_to_tensor(X) , tf.convert_to_tensor(y)\r\n"
      ],
      "execution_count": null,
      "outputs": []
    },
    {
      "cell_type": "code",
      "metadata": {
        "id": "oNYKyw5z1Rjl"
      },
      "source": [
        "X_train, y_train = generate_pairs(window_size, corpus1)\r\n"
      ],
      "execution_count": null,
      "outputs": []
    },
    {
      "cell_type": "code",
      "metadata": {
        "id": "W0VxGFVTY0OD"
      },
      "source": [
        "X_train"
      ],
      "execution_count": null,
      "outputs": []
    },
    {
      "cell_type": "code",
      "metadata": {
        "id": "esHmdMRgfgkt"
      },
      "source": [
        "y_train"
      ],
      "execution_count": null,
      "outputs": []
    },
    {
      "cell_type": "markdown",
      "metadata": {
        "id": "0OyslBFKyq4q"
      },
      "source": [
        "## CBOW model\r\n",
        "1. defind model structure: \r\n",
        "- defining each layer\r\n",
        "- defining how input data flows from layer to layer\r\n",
        "- defining loss function\r\n",
        "2. train model using our training data\r\n",
        "3. upgrade weight\r\n",
        "\r\n",
        "Model configuration: \r\n",
        "One Embedding (hidden) layer the size of the output embedding vectors, \r\n",
        "One lambda layer to calculate the mean over all embedding vectors (target vectors and context vectors)"
      ]
    },
    {
      "cell_type": "code",
      "metadata": {
        "id": "GvRw8Hva5bd7"
      },
      "source": [
        "from tensorflow.keras.models import Sequential\r\n",
        "from tensorflow.keras.layers import Dense, Embedding, Lambda\r\n",
        "from tensorflow.keras.backend import mean \r\n"
      ],
      "execution_count": null,
      "outputs": []
    },
    {
      "cell_type": "code",
      "metadata": {
        "colab": {
          "base_uri": "https://localhost:8080/"
        },
        "id": "Vl8WczPIPR3f",
        "outputId": "923d5e36-c32a-4a8e-dd5c-c8512bd65c63"
      },
      "source": [
        "X_train[0], y_train[0]"
      ],
      "execution_count": null,
      "outputs": [
        {
          "output_type": "execute_result",
          "data": {
            "text/plain": [
              "(<tf.Tensor: shape=(4,), dtype=int32, numpy=array([  3,  19, 932,  19], dtype=int32)>,\n",
              " <tf.Tensor: shape=(18284,), dtype=float32, numpy=array([0., 0., 0., ..., 0., 0., 0.], dtype=float32)>)"
            ]
          },
          "metadata": {
            "tags": []
          },
          "execution_count": 208
        }
      ]
    },
    {
      "cell_type": "code",
      "metadata": {
        "id": "Rbw3UJV_5lpN"
      },
      "source": [
        "#### want to explain each layer in detail? \r\n",
        "#### explain the loss function?\r\n",
        "embedding_size = 128\r\n",
        "cbow = Sequential()\r\n",
        "cbow.add(Embedding(input_dim=vocab_size, output_dim=embedding_size, input_length=window_size*2))\r\n",
        "cbow.add(Lambda(lambda x: mean(x, axis=1), output_shape=(embedding_size,) ))\r\n",
        "cbow.add(Dense(vocab_size, activation='softmax'))\r\n",
        "\r\n",
        "cbow.compile(loss='categorical_crossentropy', optimizer='adam', metrics=['acc'])\r\n",
        "cbow.fit(X_train, y_train, epochs=40, verbose=1)"
      ],
      "execution_count": null,
      "outputs": []
    },
    {
      "cell_type": "code",
      "metadata": {
        "id": "kjHxO7PE6d6C",
        "colab": {
          "base_uri": "https://localhost:8080/"
        },
        "outputId": "b713a873-0030-4950-ed18-f3d6b79858bc"
      },
      "source": [
        "## model cbow have finished training\r\n",
        "\r\n",
        "cbow.summary()"
      ],
      "execution_count": null,
      "outputs": [
        {
          "output_type": "stream",
          "text": [
            "Model: \"sequential_2\"\n",
            "_________________________________________________________________\n",
            "Layer (type)                 Output Shape              Param #   \n",
            "=================================================================\n",
            "embedding_2 (Embedding)      (None, 4, 128)            2340352   \n",
            "_________________________________________________________________\n",
            "lambda_2 (Lambda)            (None, 128)               0         \n",
            "_________________________________________________________________\n",
            "dense_2 (Dense)              (None, 18284)             2358636   \n",
            "=================================================================\n",
            "Total params: 4,698,988\n",
            "Trainable params: 4,698,988\n",
            "Non-trainable params: 0\n",
            "_________________________________________________________________\n"
          ],
          "name": "stdout"
        }
      ]
    },
    {
      "cell_type": "markdown",
      "metadata": {
        "id": "ec1RCORcy7Vf"
      },
      "source": [
        "*Examining the trained model and check embeddings*"
      ]
    },
    {
      "cell_type": "code",
      "metadata": {
        "id": "bj2y1LLvvZTF"
      },
      "source": [
        "## model.get_weights() will get weight of all layers, here, we need the first layer\r\n",
        "weights = cbow.get_weights()[0]"
      ],
      "execution_count": null,
      "outputs": []
    },
    {
      "cell_type": "markdown",
      "metadata": {
        "id": "7B8CrmtrpQNk"
      },
      "source": [
        "# Visualization"
      ]
    },
    {
      "cell_type": "code",
      "metadata": {
        "colab": {
          "base_uri": "https://localhost:8080/",
          "height": 265
        },
        "id": "13bBZ1yWwTDt",
        "outputId": "ffb33fa9-86eb-40e1-d2c5-c4765837f51b"
      },
      "source": [
        "## visualize the embedding of each word\r\n",
        "import pandas as pd\r\n",
        "weights = cbow.get_weights()[0]\r\n",
        "weights = weights[1:]\r\n",
        "print(weights.shape)\r\n",
        "\r\n",
        "pd.DataFrame(weights, index=list(tokenizer.index_word.values())).head()"
      ],
      "execution_count": null,
      "outputs": [
        {
          "output_type": "stream",
          "text": [
            "(18283, 128)\n"
          ],
          "name": "stdout"
        },
        {
          "output_type": "execute_result",
          "data": {
            "text/html": [
              "<div>\n",
              "<style scoped>\n",
              "    .dataframe tbody tr th:only-of-type {\n",
              "        vertical-align: middle;\n",
              "    }\n",
              "\n",
              "    .dataframe tbody tr th {\n",
              "        vertical-align: top;\n",
              "    }\n",
              "\n",
              "    .dataframe thead th {\n",
              "        text-align: right;\n",
              "    }\n",
              "</style>\n",
              "<table border=\"1\" class=\"dataframe\">\n",
              "  <thead>\n",
              "    <tr style=\"text-align: right;\">\n",
              "      <th></th>\n",
              "      <th>0</th>\n",
              "      <th>1</th>\n",
              "      <th>2</th>\n",
              "      <th>3</th>\n",
              "      <th>4</th>\n",
              "      <th>5</th>\n",
              "      <th>6</th>\n",
              "      <th>7</th>\n",
              "      <th>8</th>\n",
              "      <th>9</th>\n",
              "      <th>10</th>\n",
              "      <th>11</th>\n",
              "      <th>12</th>\n",
              "      <th>13</th>\n",
              "      <th>14</th>\n",
              "      <th>15</th>\n",
              "      <th>16</th>\n",
              "      <th>17</th>\n",
              "      <th>18</th>\n",
              "      <th>19</th>\n",
              "      <th>20</th>\n",
              "      <th>21</th>\n",
              "      <th>22</th>\n",
              "      <th>23</th>\n",
              "      <th>24</th>\n",
              "      <th>25</th>\n",
              "      <th>26</th>\n",
              "      <th>27</th>\n",
              "      <th>28</th>\n",
              "      <th>29</th>\n",
              "      <th>30</th>\n",
              "      <th>31</th>\n",
              "      <th>32</th>\n",
              "      <th>33</th>\n",
              "      <th>34</th>\n",
              "      <th>35</th>\n",
              "      <th>36</th>\n",
              "      <th>37</th>\n",
              "      <th>38</th>\n",
              "      <th>39</th>\n",
              "      <th>...</th>\n",
              "      <th>88</th>\n",
              "      <th>89</th>\n",
              "      <th>90</th>\n",
              "      <th>91</th>\n",
              "      <th>92</th>\n",
              "      <th>93</th>\n",
              "      <th>94</th>\n",
              "      <th>95</th>\n",
              "      <th>96</th>\n",
              "      <th>97</th>\n",
              "      <th>98</th>\n",
              "      <th>99</th>\n",
              "      <th>100</th>\n",
              "      <th>101</th>\n",
              "      <th>102</th>\n",
              "      <th>103</th>\n",
              "      <th>104</th>\n",
              "      <th>105</th>\n",
              "      <th>106</th>\n",
              "      <th>107</th>\n",
              "      <th>108</th>\n",
              "      <th>109</th>\n",
              "      <th>110</th>\n",
              "      <th>111</th>\n",
              "      <th>112</th>\n",
              "      <th>113</th>\n",
              "      <th>114</th>\n",
              "      <th>115</th>\n",
              "      <th>116</th>\n",
              "      <th>117</th>\n",
              "      <th>118</th>\n",
              "      <th>119</th>\n",
              "      <th>120</th>\n",
              "      <th>121</th>\n",
              "      <th>122</th>\n",
              "      <th>123</th>\n",
              "      <th>124</th>\n",
              "      <th>125</th>\n",
              "      <th>126</th>\n",
              "      <th>127</th>\n",
              "    </tr>\n",
              "  </thead>\n",
              "  <tbody>\n",
              "    <tr>\n",
              "      <th>&lt;OOV&gt;</th>\n",
              "      <td>0.000404</td>\n",
              "      <td>0.041296</td>\n",
              "      <td>0.001973</td>\n",
              "      <td>0.020388</td>\n",
              "      <td>0.028730</td>\n",
              "      <td>-0.028484</td>\n",
              "      <td>0.030016</td>\n",
              "      <td>-0.041115</td>\n",
              "      <td>0.026272</td>\n",
              "      <td>-0.013379</td>\n",
              "      <td>-0.027312</td>\n",
              "      <td>-0.039701</td>\n",
              "      <td>-0.032826</td>\n",
              "      <td>0.034481</td>\n",
              "      <td>-0.031482</td>\n",
              "      <td>0.022481</td>\n",
              "      <td>-0.016323</td>\n",
              "      <td>-0.002279</td>\n",
              "      <td>0.046065</td>\n",
              "      <td>-0.023169</td>\n",
              "      <td>0.011711</td>\n",
              "      <td>-0.027386</td>\n",
              "      <td>0.017944</td>\n",
              "      <td>-0.009765</td>\n",
              "      <td>-0.047634</td>\n",
              "      <td>0.031039</td>\n",
              "      <td>-0.029459</td>\n",
              "      <td>-0.035880</td>\n",
              "      <td>-0.039169</td>\n",
              "      <td>-0.016874</td>\n",
              "      <td>0.018874</td>\n",
              "      <td>-0.047782</td>\n",
              "      <td>0.040012</td>\n",
              "      <td>0.037530</td>\n",
              "      <td>-0.025602</td>\n",
              "      <td>-0.039447</td>\n",
              "      <td>0.012189</td>\n",
              "      <td>0.029454</td>\n",
              "      <td>0.033225</td>\n",
              "      <td>0.045113</td>\n",
              "      <td>...</td>\n",
              "      <td>-0.043208</td>\n",
              "      <td>-0.017689</td>\n",
              "      <td>-0.040157</td>\n",
              "      <td>-0.032527</td>\n",
              "      <td>-0.045790</td>\n",
              "      <td>0.038097</td>\n",
              "      <td>0.006811</td>\n",
              "      <td>0.021862</td>\n",
              "      <td>0.034570</td>\n",
              "      <td>0.039704</td>\n",
              "      <td>0.001331</td>\n",
              "      <td>-0.023852</td>\n",
              "      <td>-0.015273</td>\n",
              "      <td>-0.018412</td>\n",
              "      <td>-0.030702</td>\n",
              "      <td>-0.017098</td>\n",
              "      <td>0.006126</td>\n",
              "      <td>-0.048408</td>\n",
              "      <td>0.047038</td>\n",
              "      <td>-0.018962</td>\n",
              "      <td>-0.044467</td>\n",
              "      <td>-0.017508</td>\n",
              "      <td>0.049819</td>\n",
              "      <td>0.045960</td>\n",
              "      <td>0.048172</td>\n",
              "      <td>-0.005494</td>\n",
              "      <td>-0.008210</td>\n",
              "      <td>0.005549</td>\n",
              "      <td>-0.022838</td>\n",
              "      <td>-0.021250</td>\n",
              "      <td>-0.033763</td>\n",
              "      <td>0.024100</td>\n",
              "      <td>-0.043886</td>\n",
              "      <td>0.009294</td>\n",
              "      <td>0.031871</td>\n",
              "      <td>0.002225</td>\n",
              "      <td>0.035638</td>\n",
              "      <td>0.014822</td>\n",
              "      <td>0.003821</td>\n",
              "      <td>-0.000264</td>\n",
              "    </tr>\n",
              "    <tr>\n",
              "      <th>the</th>\n",
              "      <td>-0.257736</td>\n",
              "      <td>0.293641</td>\n",
              "      <td>0.692132</td>\n",
              "      <td>0.046530</td>\n",
              "      <td>-0.018028</td>\n",
              "      <td>0.309569</td>\n",
              "      <td>0.498804</td>\n",
              "      <td>-0.751291</td>\n",
              "      <td>0.000568</td>\n",
              "      <td>-1.161633</td>\n",
              "      <td>1.399045</td>\n",
              "      <td>0.901222</td>\n",
              "      <td>1.212245</td>\n",
              "      <td>0.337493</td>\n",
              "      <td>-1.077747</td>\n",
              "      <td>0.393239</td>\n",
              "      <td>0.868459</td>\n",
              "      <td>-1.218264</td>\n",
              "      <td>-0.702668</td>\n",
              "      <td>-0.508949</td>\n",
              "      <td>1.379773</td>\n",
              "      <td>0.684562</td>\n",
              "      <td>-0.478001</td>\n",
              "      <td>1.934656</td>\n",
              "      <td>-0.640410</td>\n",
              "      <td>-1.368634</td>\n",
              "      <td>0.648364</td>\n",
              "      <td>0.432985</td>\n",
              "      <td>0.120155</td>\n",
              "      <td>-0.769256</td>\n",
              "      <td>-0.937215</td>\n",
              "      <td>0.829384</td>\n",
              "      <td>0.139868</td>\n",
              "      <td>-2.333879</td>\n",
              "      <td>0.027170</td>\n",
              "      <td>1.629406</td>\n",
              "      <td>-1.059711</td>\n",
              "      <td>0.312353</td>\n",
              "      <td>-2.309788</td>\n",
              "      <td>0.516218</td>\n",
              "      <td>...</td>\n",
              "      <td>0.003356</td>\n",
              "      <td>0.189327</td>\n",
              "      <td>-1.208838</td>\n",
              "      <td>-0.672895</td>\n",
              "      <td>-0.530488</td>\n",
              "      <td>0.119249</td>\n",
              "      <td>0.234300</td>\n",
              "      <td>0.544226</td>\n",
              "      <td>0.112984</td>\n",
              "      <td>-0.339929</td>\n",
              "      <td>0.416541</td>\n",
              "      <td>1.343238</td>\n",
              "      <td>0.105336</td>\n",
              "      <td>0.858705</td>\n",
              "      <td>-0.116132</td>\n",
              "      <td>0.280401</td>\n",
              "      <td>0.778585</td>\n",
              "      <td>1.128028</td>\n",
              "      <td>-1.609462</td>\n",
              "      <td>0.737383</td>\n",
              "      <td>0.004564</td>\n",
              "      <td>1.264146</td>\n",
              "      <td>-0.194314</td>\n",
              "      <td>0.841291</td>\n",
              "      <td>-0.112459</td>\n",
              "      <td>-1.020169</td>\n",
              "      <td>-0.341742</td>\n",
              "      <td>0.430846</td>\n",
              "      <td>-0.931552</td>\n",
              "      <td>-0.778793</td>\n",
              "      <td>-0.806238</td>\n",
              "      <td>0.835324</td>\n",
              "      <td>-0.590898</td>\n",
              "      <td>0.860698</td>\n",
              "      <td>-0.622212</td>\n",
              "      <td>0.129965</td>\n",
              "      <td>-0.928830</td>\n",
              "      <td>-1.270448</td>\n",
              "      <td>-0.074886</td>\n",
              "      <td>-0.900748</td>\n",
              "    </tr>\n",
              "    <tr>\n",
              "      <th>and</th>\n",
              "      <td>-0.845702</td>\n",
              "      <td>-1.450420</td>\n",
              "      <td>-1.221642</td>\n",
              "      <td>1.125943</td>\n",
              "      <td>-0.816225</td>\n",
              "      <td>-0.062149</td>\n",
              "      <td>1.751172</td>\n",
              "      <td>0.671192</td>\n",
              "      <td>1.871115</td>\n",
              "      <td>0.823485</td>\n",
              "      <td>-1.237643</td>\n",
              "      <td>-1.239474</td>\n",
              "      <td>0.622732</td>\n",
              "      <td>1.087603</td>\n",
              "      <td>0.440104</td>\n",
              "      <td>0.901239</td>\n",
              "      <td>1.464554</td>\n",
              "      <td>1.128371</td>\n",
              "      <td>-1.238841</td>\n",
              "      <td>-0.068189</td>\n",
              "      <td>-0.972308</td>\n",
              "      <td>0.227093</td>\n",
              "      <td>0.983175</td>\n",
              "      <td>-0.929632</td>\n",
              "      <td>0.615596</td>\n",
              "      <td>0.698862</td>\n",
              "      <td>0.016288</td>\n",
              "      <td>-1.057213</td>\n",
              "      <td>-0.049349</td>\n",
              "      <td>0.829984</td>\n",
              "      <td>-0.341298</td>\n",
              "      <td>-1.095851</td>\n",
              "      <td>0.847433</td>\n",
              "      <td>1.163382</td>\n",
              "      <td>-0.398383</td>\n",
              "      <td>0.195129</td>\n",
              "      <td>0.889611</td>\n",
              "      <td>-0.720562</td>\n",
              "      <td>0.687627</td>\n",
              "      <td>-0.299999</td>\n",
              "      <td>...</td>\n",
              "      <td>-0.168867</td>\n",
              "      <td>0.306315</td>\n",
              "      <td>0.714580</td>\n",
              "      <td>-0.910497</td>\n",
              "      <td>-0.519435</td>\n",
              "      <td>0.837615</td>\n",
              "      <td>0.619601</td>\n",
              "      <td>-0.741754</td>\n",
              "      <td>0.701022</td>\n",
              "      <td>0.224566</td>\n",
              "      <td>0.198512</td>\n",
              "      <td>-0.007896</td>\n",
              "      <td>-0.102169</td>\n",
              "      <td>0.885575</td>\n",
              "      <td>-1.208625</td>\n",
              "      <td>0.508875</td>\n",
              "      <td>-0.263460</td>\n",
              "      <td>0.271034</td>\n",
              "      <td>0.137292</td>\n",
              "      <td>-1.390332</td>\n",
              "      <td>-0.745570</td>\n",
              "      <td>-0.889107</td>\n",
              "      <td>0.480599</td>\n",
              "      <td>1.191729</td>\n",
              "      <td>-1.122144</td>\n",
              "      <td>0.486226</td>\n",
              "      <td>0.248608</td>\n",
              "      <td>-1.277798</td>\n",
              "      <td>-1.054769</td>\n",
              "      <td>-0.353150</td>\n",
              "      <td>-0.505930</td>\n",
              "      <td>0.093927</td>\n",
              "      <td>0.264163</td>\n",
              "      <td>-0.844490</td>\n",
              "      <td>0.429597</td>\n",
              "      <td>-1.137976</td>\n",
              "      <td>-0.800089</td>\n",
              "      <td>-0.977990</td>\n",
              "      <td>-1.547301</td>\n",
              "      <td>-0.467962</td>\n",
              "    </tr>\n",
              "    <tr>\n",
              "      <th>to</th>\n",
              "      <td>0.350556</td>\n",
              "      <td>-0.079439</td>\n",
              "      <td>1.021105</td>\n",
              "      <td>1.552466</td>\n",
              "      <td>-0.284418</td>\n",
              "      <td>0.761033</td>\n",
              "      <td>0.095495</td>\n",
              "      <td>2.128414</td>\n",
              "      <td>-0.256369</td>\n",
              "      <td>-1.577548</td>\n",
              "      <td>-1.561545</td>\n",
              "      <td>-0.660781</td>\n",
              "      <td>-1.552087</td>\n",
              "      <td>-1.190119</td>\n",
              "      <td>-0.128892</td>\n",
              "      <td>-1.448903</td>\n",
              "      <td>0.592595</td>\n",
              "      <td>0.811291</td>\n",
              "      <td>1.133071</td>\n",
              "      <td>0.965412</td>\n",
              "      <td>0.608937</td>\n",
              "      <td>-0.449273</td>\n",
              "      <td>0.116730</td>\n",
              "      <td>-0.416856</td>\n",
              "      <td>-0.273741</td>\n",
              "      <td>0.901183</td>\n",
              "      <td>-1.291070</td>\n",
              "      <td>1.556628</td>\n",
              "      <td>-0.707583</td>\n",
              "      <td>0.120663</td>\n",
              "      <td>0.675146</td>\n",
              "      <td>0.430638</td>\n",
              "      <td>1.022249</td>\n",
              "      <td>-0.113210</td>\n",
              "      <td>0.235896</td>\n",
              "      <td>0.674733</td>\n",
              "      <td>-0.305709</td>\n",
              "      <td>-0.530438</td>\n",
              "      <td>-0.042419</td>\n",
              "      <td>-0.406645</td>\n",
              "      <td>...</td>\n",
              "      <td>-0.286296</td>\n",
              "      <td>0.845473</td>\n",
              "      <td>-1.459607</td>\n",
              "      <td>-0.459425</td>\n",
              "      <td>0.932763</td>\n",
              "      <td>-0.995375</td>\n",
              "      <td>-1.274460</td>\n",
              "      <td>-0.422914</td>\n",
              "      <td>0.245985</td>\n",
              "      <td>0.614344</td>\n",
              "      <td>-1.274514</td>\n",
              "      <td>-1.010206</td>\n",
              "      <td>0.146373</td>\n",
              "      <td>-0.660546</td>\n",
              "      <td>0.688233</td>\n",
              "      <td>1.944947</td>\n",
              "      <td>1.123513</td>\n",
              "      <td>-1.022935</td>\n",
              "      <td>0.458373</td>\n",
              "      <td>1.011283</td>\n",
              "      <td>0.599070</td>\n",
              "      <td>-0.792976</td>\n",
              "      <td>-0.330787</td>\n",
              "      <td>-0.190308</td>\n",
              "      <td>-0.089556</td>\n",
              "      <td>0.960643</td>\n",
              "      <td>0.250992</td>\n",
              "      <td>0.778522</td>\n",
              "      <td>0.053564</td>\n",
              "      <td>-1.122532</td>\n",
              "      <td>-0.370896</td>\n",
              "      <td>0.575396</td>\n",
              "      <td>-0.447636</td>\n",
              "      <td>-0.706243</td>\n",
              "      <td>-0.192837</td>\n",
              "      <td>0.605254</td>\n",
              "      <td>-1.204168</td>\n",
              "      <td>0.931996</td>\n",
              "      <td>0.712831</td>\n",
              "      <td>1.176523</td>\n",
              "    </tr>\n",
              "    <tr>\n",
              "      <th>of</th>\n",
              "      <td>0.243352</td>\n",
              "      <td>0.871903</td>\n",
              "      <td>0.069889</td>\n",
              "      <td>-1.742707</td>\n",
              "      <td>0.087215</td>\n",
              "      <td>0.499025</td>\n",
              "      <td>0.678177</td>\n",
              "      <td>-0.957983</td>\n",
              "      <td>-1.232533</td>\n",
              "      <td>1.333122</td>\n",
              "      <td>-0.719711</td>\n",
              "      <td>0.525157</td>\n",
              "      <td>0.336917</td>\n",
              "      <td>-0.697553</td>\n",
              "      <td>-1.153169</td>\n",
              "      <td>-1.026292</td>\n",
              "      <td>1.221626</td>\n",
              "      <td>0.716688</td>\n",
              "      <td>1.198959</td>\n",
              "      <td>0.086602</td>\n",
              "      <td>-0.959524</td>\n",
              "      <td>0.023762</td>\n",
              "      <td>-1.279881</td>\n",
              "      <td>-0.556938</td>\n",
              "      <td>-0.238896</td>\n",
              "      <td>0.864581</td>\n",
              "      <td>1.226758</td>\n",
              "      <td>-1.348667</td>\n",
              "      <td>1.535303</td>\n",
              "      <td>-1.358394</td>\n",
              "      <td>-1.285847</td>\n",
              "      <td>-0.753889</td>\n",
              "      <td>0.413269</td>\n",
              "      <td>0.187787</td>\n",
              "      <td>-0.113171</td>\n",
              "      <td>0.127241</td>\n",
              "      <td>-0.342945</td>\n",
              "      <td>0.794270</td>\n",
              "      <td>-0.415729</td>\n",
              "      <td>1.460319</td>\n",
              "      <td>...</td>\n",
              "      <td>0.093836</td>\n",
              "      <td>1.296466</td>\n",
              "      <td>-0.998680</td>\n",
              "      <td>-0.710773</td>\n",
              "      <td>1.798364</td>\n",
              "      <td>-0.409993</td>\n",
              "      <td>-1.392506</td>\n",
              "      <td>-1.459902</td>\n",
              "      <td>-0.468733</td>\n",
              "      <td>-0.103662</td>\n",
              "      <td>1.523205</td>\n",
              "      <td>-0.101150</td>\n",
              "      <td>1.139579</td>\n",
              "      <td>-0.920750</td>\n",
              "      <td>0.441831</td>\n",
              "      <td>-1.018171</td>\n",
              "      <td>-0.345307</td>\n",
              "      <td>1.036974</td>\n",
              "      <td>-0.437520</td>\n",
              "      <td>0.448377</td>\n",
              "      <td>-1.541105</td>\n",
              "      <td>-0.638920</td>\n",
              "      <td>-1.151975</td>\n",
              "      <td>-0.591554</td>\n",
              "      <td>-0.536341</td>\n",
              "      <td>0.482482</td>\n",
              "      <td>0.723538</td>\n",
              "      <td>-0.683353</td>\n",
              "      <td>-0.503783</td>\n",
              "      <td>1.011101</td>\n",
              "      <td>0.928226</td>\n",
              "      <td>-0.785141</td>\n",
              "      <td>-1.359758</td>\n",
              "      <td>-0.336939</td>\n",
              "      <td>0.810617</td>\n",
              "      <td>-0.215666</td>\n",
              "      <td>1.002034</td>\n",
              "      <td>0.166432</td>\n",
              "      <td>-0.908564</td>\n",
              "      <td>1.021019</td>\n",
              "    </tr>\n",
              "  </tbody>\n",
              "</table>\n",
              "<p>5 rows × 128 columns</p>\n",
              "</div>"
            ],
            "text/plain": [
              "            0         1         2    ...       125       126       127\n",
              "<OOV>  0.000404  0.041296  0.001973  ...  0.014822  0.003821 -0.000264\n",
              "the   -0.257736  0.293641  0.692132  ... -1.270448 -0.074886 -0.900748\n",
              "and   -0.845702 -1.450420 -1.221642  ... -0.977990 -1.547301 -0.467962\n",
              "to     0.350556 -0.079439  1.021105  ...  0.931996  0.712831  1.176523\n",
              "of     0.243352  0.871903  0.069889  ...  0.166432 -0.908564  1.021019\n",
              "\n",
              "[5 rows x 128 columns]"
            ]
          },
          "metadata": {
            "tags": []
          },
          "execution_count": 219
        }
      ]
    },
    {
      "cell_type": "code",
      "metadata": {
        "colab": {
          "base_uri": "https://localhost:8080/"
        },
        "id": "BpqA0L35waFS",
        "outputId": "51baa979-f122-47de-ba3e-1f4a6e5f9acd"
      },
      "source": [
        "weights.shape"
      ],
      "execution_count": null,
      "outputs": [
        {
          "output_type": "execute_result",
          "data": {
            "text/plain": [
              "(18283, 128)"
            ]
          },
          "metadata": {
            "tags": []
          },
          "execution_count": 220
        }
      ]
    },
    {
      "cell_type": "code",
      "metadata": {
        "id": "bntiu34MxVmY"
      },
      "source": [
        "from sklearn.manifold import TSNE"
      ],
      "execution_count": null,
      "outputs": []
    },
    {
      "cell_type": "code",
      "metadata": {
        "id": "OXWC45pinChV"
      },
      "source": [
        "#### might take 15 mins, while weights.shape is (18283, 128)\r\n",
        "## TSNE model is a way to visualize the high dementional embeddings \r\n",
        "## use TSNE to transfer high dementional embeddings into a 2 dementional graph, similar embeddings are closer\r\n",
        "tsne_model_2d = TSNE(perplexity=15, n_components=2, init='pca', n_iter=3500, random_state=32)\r\n",
        "embeddings_2d = tsne_model_2d.fit_transform(weights)\r\n",
        "vocab_embeddings_2d = pd.DataFrame(embeddings_2d, index=list(tokenizer.index_word.values()),columns = ['x-axis','y-axis'])"
      ],
      "execution_count": null,
      "outputs": []
    },
    {
      "cell_type": "code",
      "metadata": {
        "id": "6xNJCNZ3tEBG"
      },
      "source": [
        "#### I use some word to test our embeddings, add word if you wish\r\n",
        "target_word_list = ['cat','dog','animal','law','justice','judge','create','wood','tree','forest','love','bear','masters','friends','curse','enemies']\r\n",
        "temp_words = list(tokenizer.index_word.values())\r\n",
        "temp_embeddings = [ embeddings_2d[temp_words.index(x)] for x in target_word_list]\r\n",
        "vocab_embeddings_2d = pd.DataFrame(temp_embeddings, index=target_word_list,columns = ['x-axis','y-axis'])\r\n",
        "\r\n"
      ],
      "execution_count": null,
      "outputs": []
    },
    {
      "cell_type": "code",
      "metadata": {
        "id": "tDXDE5icobRa"
      },
      "source": [
        "## random_words_set_2d = vocab_embeddings_2d.sample(n=30, random_state=0)\r\n",
        "## random_words_set_2d\r\n",
        "random_words_set_2d = vocab_embeddings_2d"
      ],
      "execution_count": null,
      "outputs": []
    },
    {
      "cell_type": "code",
      "metadata": {
        "colab": {
          "base_uri": "https://localhost:8080/",
          "height": 281
        },
        "id": "ZyE_ZAolpdvm",
        "outputId": "779230e4-3d4d-4284-ec38-2b3d43f37ae7"
      },
      "source": [
        "#### training corpus is not large enough to show wonderful embeddings\r\n",
        "#### but the time complexity of this algrithm do not support a large corpus\r\n",
        "#### so how about use a pretrained embedding to show their similarity? like the GloVe code I previded\r\n",
        "\r\n",
        "import matplotlib.pyplot as plt\r\n",
        "\r\n",
        "fig, ax = plt.subplots()\r\n",
        "random_words_set_2d.plot(0, 1, kind='scatter', ax=ax)\r\n",
        "\r\n",
        "for k, v in random_words_set_2d.iterrows():\r\n",
        "  ax.annotate(k, v)\r\n",
        "\r\n",
        "fig.canvas.draw()"
      ],
      "execution_count": null,
      "outputs": [
        {
          "output_type": "display_data",
          "data": {
            "image/png": "[encoded data removed]",
            "text/plain": [
              "<Figure size 432x288 with 1 Axes>"
            ]
          },
          "metadata": {
            "tags": [],
            "needs_background": "light"
          }
        }
      ]
    }
  ]
}